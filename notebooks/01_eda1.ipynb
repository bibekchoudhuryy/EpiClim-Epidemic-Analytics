{
 "cells": [
  {
   "cell_type": "code",
   "execution_count": null,
   "id": "5da409f8",
   "metadata": {},
   "outputs": [],
   "source": [
    "import pandas as pd\n",
    "import numpy as np\n",
    "import matplotlib.pyplot as plt\n",
    "import seaborn as sns\n",
    "import re\n",
    "\n",
    "df = pd.read_csv(\"C:/Users/bikek/data_analysis projects/EpiClim_public_health_district_level_analysis/data/Final_data.csv\")\n",
    "# df.columns\n",
    "# df['week_of_outbreak'] = pd.to_datetime(df['week_of_outbreak'],errors='coerce')\n",
    "df['Deaths'] = df['Deaths'].fillna(0)\n",
    "df['LAI'] = df['LAI'].fillna(df['LAI'].mode()[0])\n",
    "df['Temp'] = df['Temp'].fillna(df['Temp'].mode()[0])\n",
    "df['preci']=df['preci'].fillna(df['preci'].mode()[0])\n",
    "df['week_of_outbreak'] = df['week_of_outbreak'].ffill()\n",
    "df['Cases'] = df['Cases'].fillna(0)\n",
    "num_columns = ['Cases','Deaths','preci','LAI','Temp']\n",
    "for col in num_columns:\n",
    "    df[col] = pd.to_numeric(df[col],errors='coerce')\n",
    "\n",
    "df = df.drop(columns='Unnamed: 0',errors='ignore')\n",
    "\n",
    "df['state_ut'] = df['state_ut'].str.strip().str.title()\n",
    "df['district'] = df['district'].str.strip().str.title()\n",
    "df['Disease'] = df['Disease'].str.strip().str.title()\n"
   ]
  },
  {
   "cell_type": "code",
   "execution_count": 7,
   "id": "d9951725",
   "metadata": {},
   "outputs": [
    {
     "data": {
      "application/vnd.microsoft.datawrangler.viewer.v0+json": {
       "columns": [
        {
         "name": "index",
         "rawType": "int64",
         "type": "integer"
        },
        {
         "name": "week_of_outbreak",
         "rawType": "object",
         "type": "string"
        },
        {
         "name": "state_ut",
         "rawType": "object",
         "type": "string"
        },
        {
         "name": "district",
         "rawType": "object",
         "type": "string"
        },
        {
         "name": "Disease",
         "rawType": "object",
         "type": "string"
        },
        {
         "name": "Cases",
         "rawType": "float64",
         "type": "float"
        },
        {
         "name": "Deaths",
         "rawType": "float64",
         "type": "float"
        },
        {
         "name": "day",
         "rawType": "int64",
         "type": "integer"
        },
        {
         "name": "mon",
         "rawType": "int64",
         "type": "integer"
        },
        {
         "name": "year",
         "rawType": "int64",
         "type": "integer"
        },
        {
         "name": "Latitude",
         "rawType": "float64",
         "type": "float"
        },
        {
         "name": "Longitude",
         "rawType": "float64",
         "type": "float"
        },
        {
         "name": "preci",
         "rawType": "float64",
         "type": "float"
        },
        {
         "name": "LAI",
         "rawType": "float64",
         "type": "float"
        },
        {
         "name": "Temp",
         "rawType": "float64",
         "type": "float"
        }
       ],
       "ref": "36a43210-8384-40f2-b3f5-e1beadc5470a",
       "rows": [
        [
         "0",
         "1st week",
         "Meghalaya",
         "East Jaintia Hills",
         "Acute Diarrhoeal Disease",
         "160.0",
         "0.0",
         "2",
         "1",
         "2022",
         "25.25157605",
         "92.48405007",
         "0.02035381907",
         "34.5",
         "291.5333334"
        ],
        [
         "1",
         "2nd week",
         "Maharashtra",
         "Gadchiroli",
         "Malaria",
         "7.0",
         "2.0",
         "10",
         "1",
         "2022",
         "19.75907035",
         "80.16228073",
         "0.007479298714",
         "9.0",
         "299.97"
        ],
        [
         "2",
         "3rd week",
         "Tamil Nadu",
         "Pudukottai",
         "Acute Diarrhoeal Disease",
         "8.0",
         "0.0",
         "18",
         "1",
         "2022",
         "10.3826515",
         "78.8191259",
         "0.1074129745",
         "12.0",
         "300.7666666"
        ],
        [
         "3",
         "3rd week",
         "Gujarat",
         "Patan",
         "Acute Diarrhoeal Disease",
         "7.0",
         "0.0",
         "11",
         "1",
         "2022",
         "23.77405735",
         "71.68373466",
         "0.06509449409",
         "9.0",
         "299.08"
        ],
        [
         "4",
         "3rd week",
         "Kerala",
         "Ernakulam",
         "Acute Diarrhoeal Disease",
         "14.0",
         "0.0",
         "24",
         "12",
         "2021",
         "9.98408",
         "76.2741457",
         "0.04125608103",
         "33.0",
         "303.028"
        ]
       ],
       "shape": {
        "columns": 14,
        "rows": 5
       }
      },
      "text/html": [
       "<div>\n",
       "<style scoped>\n",
       "    .dataframe tbody tr th:only-of-type {\n",
       "        vertical-align: middle;\n",
       "    }\n",
       "\n",
       "    .dataframe tbody tr th {\n",
       "        vertical-align: top;\n",
       "    }\n",
       "\n",
       "    .dataframe thead th {\n",
       "        text-align: right;\n",
       "    }\n",
       "</style>\n",
       "<table border=\"1\" class=\"dataframe\">\n",
       "  <thead>\n",
       "    <tr style=\"text-align: right;\">\n",
       "      <th></th>\n",
       "      <th>week_of_outbreak</th>\n",
       "      <th>state_ut</th>\n",
       "      <th>district</th>\n",
       "      <th>Disease</th>\n",
       "      <th>Cases</th>\n",
       "      <th>Deaths</th>\n",
       "      <th>day</th>\n",
       "      <th>mon</th>\n",
       "      <th>year</th>\n",
       "      <th>Latitude</th>\n",
       "      <th>Longitude</th>\n",
       "      <th>preci</th>\n",
       "      <th>LAI</th>\n",
       "      <th>Temp</th>\n",
       "    </tr>\n",
       "  </thead>\n",
       "  <tbody>\n",
       "    <tr>\n",
       "      <th>0</th>\n",
       "      <td>1st week</td>\n",
       "      <td>Meghalaya</td>\n",
       "      <td>East Jaintia Hills</td>\n",
       "      <td>Acute Diarrhoeal Disease</td>\n",
       "      <td>160.0</td>\n",
       "      <td>0.0</td>\n",
       "      <td>2</td>\n",
       "      <td>1</td>\n",
       "      <td>2022</td>\n",
       "      <td>25.251576</td>\n",
       "      <td>92.484050</td>\n",
       "      <td>0.020354</td>\n",
       "      <td>34.5</td>\n",
       "      <td>291.533333</td>\n",
       "    </tr>\n",
       "    <tr>\n",
       "      <th>1</th>\n",
       "      <td>2nd week</td>\n",
       "      <td>Maharashtra</td>\n",
       "      <td>Gadchiroli</td>\n",
       "      <td>Malaria</td>\n",
       "      <td>7.0</td>\n",
       "      <td>2.0</td>\n",
       "      <td>10</td>\n",
       "      <td>1</td>\n",
       "      <td>2022</td>\n",
       "      <td>19.759070</td>\n",
       "      <td>80.162281</td>\n",
       "      <td>0.007479</td>\n",
       "      <td>9.0</td>\n",
       "      <td>299.970000</td>\n",
       "    </tr>\n",
       "    <tr>\n",
       "      <th>2</th>\n",
       "      <td>3rd week</td>\n",
       "      <td>Tamil Nadu</td>\n",
       "      <td>Pudukottai</td>\n",
       "      <td>Acute Diarrhoeal Disease</td>\n",
       "      <td>8.0</td>\n",
       "      <td>0.0</td>\n",
       "      <td>18</td>\n",
       "      <td>1</td>\n",
       "      <td>2022</td>\n",
       "      <td>10.382651</td>\n",
       "      <td>78.819126</td>\n",
       "      <td>0.107413</td>\n",
       "      <td>12.0</td>\n",
       "      <td>300.766667</td>\n",
       "    </tr>\n",
       "    <tr>\n",
       "      <th>3</th>\n",
       "      <td>3rd week</td>\n",
       "      <td>Gujarat</td>\n",
       "      <td>Patan</td>\n",
       "      <td>Acute Diarrhoeal Disease</td>\n",
       "      <td>7.0</td>\n",
       "      <td>0.0</td>\n",
       "      <td>11</td>\n",
       "      <td>1</td>\n",
       "      <td>2022</td>\n",
       "      <td>23.774057</td>\n",
       "      <td>71.683735</td>\n",
       "      <td>0.065094</td>\n",
       "      <td>9.0</td>\n",
       "      <td>299.080000</td>\n",
       "    </tr>\n",
       "    <tr>\n",
       "      <th>4</th>\n",
       "      <td>3rd week</td>\n",
       "      <td>Kerala</td>\n",
       "      <td>Ernakulam</td>\n",
       "      <td>Acute Diarrhoeal Disease</td>\n",
       "      <td>14.0</td>\n",
       "      <td>0.0</td>\n",
       "      <td>24</td>\n",
       "      <td>12</td>\n",
       "      <td>2021</td>\n",
       "      <td>9.984080</td>\n",
       "      <td>76.274146</td>\n",
       "      <td>0.041256</td>\n",
       "      <td>33.0</td>\n",
       "      <td>303.028000</td>\n",
       "    </tr>\n",
       "  </tbody>\n",
       "</table>\n",
       "</div>"
      ],
      "text/plain": [
       "  week_of_outbreak     state_ut            district                   Disease  \\\n",
       "0         1st week    Meghalaya  East Jaintia Hills  Acute Diarrhoeal Disease   \n",
       "1         2nd week  Maharashtra          Gadchiroli                   Malaria   \n",
       "2         3rd week   Tamil Nadu          Pudukottai  Acute Diarrhoeal Disease   \n",
       "3         3rd week      Gujarat               Patan  Acute Diarrhoeal Disease   \n",
       "4         3rd week       Kerala           Ernakulam  Acute Diarrhoeal Disease   \n",
       "\n",
       "   Cases  Deaths  day  mon  year   Latitude  Longitude     preci   LAI  \\\n",
       "0  160.0     0.0    2    1  2022  25.251576  92.484050  0.020354  34.5   \n",
       "1    7.0     2.0   10    1  2022  19.759070  80.162281  0.007479   9.0   \n",
       "2    8.0     0.0   18    1  2022  10.382651  78.819126  0.107413  12.0   \n",
       "3    7.0     0.0   11    1  2022  23.774057  71.683735  0.065094   9.0   \n",
       "4   14.0     0.0   24   12  2021   9.984080  76.274146  0.041256  33.0   \n",
       "\n",
       "         Temp  \n",
       "0  291.533333  \n",
       "1  299.970000  \n",
       "2  300.766667  \n",
       "3  299.080000  \n",
       "4  303.028000  "
      ]
     },
     "execution_count": 7,
     "metadata": {},
     "output_type": "execute_result"
    }
   ],
   "source": [
    "df.head()"
   ]
  },
  {
   "cell_type": "code",
   "execution_count": 8,
   "id": "a53ad0ba",
   "metadata": {},
   "outputs": [
    {
     "data": {
      "application/vnd.microsoft.datawrangler.viewer.v0+json": {
       "columns": [
        {
         "name": "index",
         "rawType": "object",
         "type": "string"
        },
        {
         "name": "0",
         "rawType": "int64",
         "type": "integer"
        }
       ],
       "ref": "62ca4d47-a85a-42ba-a06f-4710ece415b4",
       "rows": [
        [
         "Cases",
         "1"
        ],
        [
         "week_of_outbreak",
         "0"
        ],
        [
         "state_ut",
         "0"
        ],
        [
         "district",
         "0"
        ],
        [
         "Disease",
         "0"
        ],
        [
         "Deaths",
         "0"
        ],
        [
         "day",
         "0"
        ],
        [
         "mon",
         "0"
        ],
        [
         "year",
         "0"
        ],
        [
         "Latitude",
         "0"
        ],
        [
         "Longitude",
         "0"
        ],
        [
         "preci",
         "0"
        ],
        [
         "LAI",
         "0"
        ],
        [
         "Temp",
         "0"
        ]
       ],
       "shape": {
        "columns": 1,
        "rows": 14
       }
      },
      "text/plain": [
       "Cases               1\n",
       "week_of_outbreak    0\n",
       "state_ut            0\n",
       "district            0\n",
       "Disease             0\n",
       "Deaths              0\n",
       "day                 0\n",
       "mon                 0\n",
       "year                0\n",
       "Latitude            0\n",
       "Longitude           0\n",
       "preci               0\n",
       "LAI                 0\n",
       "Temp                0\n",
       "dtype: int64"
      ]
     },
     "execution_count": 8,
     "metadata": {},
     "output_type": "execute_result"
    }
   ],
   "source": [
    "df.isna().sum().sort_values(ascending=False)"
   ]
  },
  {
   "cell_type": "code",
   "execution_count": 9,
   "id": "8195eb8e",
   "metadata": {},
   "outputs": [],
   "source": [
    "df['week_no'] = df['week_of_outbreak'].str.extract(r'(\\d+)').astype(int)"
   ]
  },
  {
   "cell_type": "code",
   "execution_count": 10,
   "id": "d845d02b",
   "metadata": {},
   "outputs": [],
   "source": [
    "df['week_start'] = pd.to_datetime(df['year'].astype(str) + df['week_no'].astype(str)+'1',format='%G%V%u')"
   ]
  },
  {
   "cell_type": "code",
   "execution_count": 11,
   "id": "299ccc8e",
   "metadata": {},
   "outputs": [
    {
     "data": {
      "application/vnd.microsoft.datawrangler.viewer.v0+json": {
       "columns": [
        {
         "name": "index",
         "rawType": "int64",
         "type": "integer"
        },
        {
         "name": "week_of_outbreak",
         "rawType": "object",
         "type": "string"
        },
        {
         "name": "state_ut",
         "rawType": "object",
         "type": "string"
        },
        {
         "name": "district",
         "rawType": "object",
         "type": "string"
        },
        {
         "name": "Disease",
         "rawType": "object",
         "type": "string"
        },
        {
         "name": "Cases",
         "rawType": "float64",
         "type": "float"
        },
        {
         "name": "Deaths",
         "rawType": "float64",
         "type": "float"
        },
        {
         "name": "day",
         "rawType": "int64",
         "type": "integer"
        },
        {
         "name": "mon",
         "rawType": "int64",
         "type": "integer"
        },
        {
         "name": "year",
         "rawType": "int64",
         "type": "integer"
        },
        {
         "name": "Latitude",
         "rawType": "float64",
         "type": "float"
        },
        {
         "name": "Longitude",
         "rawType": "float64",
         "type": "float"
        },
        {
         "name": "preci",
         "rawType": "float64",
         "type": "float"
        },
        {
         "name": "LAI",
         "rawType": "float64",
         "type": "float"
        },
        {
         "name": "Temp",
         "rawType": "float64",
         "type": "float"
        },
        {
         "name": "week_no",
         "rawType": "int64",
         "type": "integer"
        },
        {
         "name": "week_start",
         "rawType": "datetime64[ns]",
         "type": "datetime"
        }
       ],
       "ref": "e575cf85-c2be-4636-a0d1-77f57581557b",
       "rows": [
        [
         "0",
         "1st week",
         "Meghalaya",
         "East Jaintia Hills",
         "Acute Diarrhoeal Disease",
         "160.0",
         "0.0",
         "2",
         "1",
         "2022",
         "25.25157605",
         "92.48405007",
         "0.02035381907",
         "34.5",
         "291.5333334",
         "1",
         "2022-01-03 00:00:00"
        ],
        [
         "1",
         "2nd week",
         "Maharashtra",
         "Gadchiroli",
         "Malaria",
         "7.0",
         "2.0",
         "10",
         "1",
         "2022",
         "19.75907035",
         "80.16228073",
         "0.007479298714",
         "9.0",
         "299.97",
         "2",
         "2022-01-10 00:00:00"
        ],
        [
         "2",
         "3rd week",
         "Tamil Nadu",
         "Pudukottai",
         "Acute Diarrhoeal Disease",
         "8.0",
         "0.0",
         "18",
         "1",
         "2022",
         "10.3826515",
         "78.8191259",
         "0.1074129745",
         "12.0",
         "300.7666666",
         "3",
         "2022-01-17 00:00:00"
        ],
        [
         "3",
         "3rd week",
         "Gujarat",
         "Patan",
         "Acute Diarrhoeal Disease",
         "7.0",
         "0.0",
         "11",
         "1",
         "2022",
         "23.77405735",
         "71.68373466",
         "0.06509449409",
         "9.0",
         "299.08",
         "3",
         "2022-01-17 00:00:00"
        ],
        [
         "4",
         "3rd week",
         "Kerala",
         "Ernakulam",
         "Acute Diarrhoeal Disease",
         "14.0",
         "0.0",
         "24",
         "12",
         "2021",
         "9.98408",
         "76.2741457",
         "0.04125608103",
         "33.0",
         "303.028",
         "3",
         "2021-01-18 00:00:00"
        ]
       ],
       "shape": {
        "columns": 16,
        "rows": 5
       }
      },
      "text/html": [
       "<div>\n",
       "<style scoped>\n",
       "    .dataframe tbody tr th:only-of-type {\n",
       "        vertical-align: middle;\n",
       "    }\n",
       "\n",
       "    .dataframe tbody tr th {\n",
       "        vertical-align: top;\n",
       "    }\n",
       "\n",
       "    .dataframe thead th {\n",
       "        text-align: right;\n",
       "    }\n",
       "</style>\n",
       "<table border=\"1\" class=\"dataframe\">\n",
       "  <thead>\n",
       "    <tr style=\"text-align: right;\">\n",
       "      <th></th>\n",
       "      <th>week_of_outbreak</th>\n",
       "      <th>state_ut</th>\n",
       "      <th>district</th>\n",
       "      <th>Disease</th>\n",
       "      <th>Cases</th>\n",
       "      <th>Deaths</th>\n",
       "      <th>day</th>\n",
       "      <th>mon</th>\n",
       "      <th>year</th>\n",
       "      <th>Latitude</th>\n",
       "      <th>Longitude</th>\n",
       "      <th>preci</th>\n",
       "      <th>LAI</th>\n",
       "      <th>Temp</th>\n",
       "      <th>week_no</th>\n",
       "      <th>week_start</th>\n",
       "    </tr>\n",
       "  </thead>\n",
       "  <tbody>\n",
       "    <tr>\n",
       "      <th>0</th>\n",
       "      <td>1st week</td>\n",
       "      <td>Meghalaya</td>\n",
       "      <td>East Jaintia Hills</td>\n",
       "      <td>Acute Diarrhoeal Disease</td>\n",
       "      <td>160.0</td>\n",
       "      <td>0.0</td>\n",
       "      <td>2</td>\n",
       "      <td>1</td>\n",
       "      <td>2022</td>\n",
       "      <td>25.251576</td>\n",
       "      <td>92.484050</td>\n",
       "      <td>0.020354</td>\n",
       "      <td>34.5</td>\n",
       "      <td>291.533333</td>\n",
       "      <td>1</td>\n",
       "      <td>2022-01-03</td>\n",
       "    </tr>\n",
       "    <tr>\n",
       "      <th>1</th>\n",
       "      <td>2nd week</td>\n",
       "      <td>Maharashtra</td>\n",
       "      <td>Gadchiroli</td>\n",
       "      <td>Malaria</td>\n",
       "      <td>7.0</td>\n",
       "      <td>2.0</td>\n",
       "      <td>10</td>\n",
       "      <td>1</td>\n",
       "      <td>2022</td>\n",
       "      <td>19.759070</td>\n",
       "      <td>80.162281</td>\n",
       "      <td>0.007479</td>\n",
       "      <td>9.0</td>\n",
       "      <td>299.970000</td>\n",
       "      <td>2</td>\n",
       "      <td>2022-01-10</td>\n",
       "    </tr>\n",
       "    <tr>\n",
       "      <th>2</th>\n",
       "      <td>3rd week</td>\n",
       "      <td>Tamil Nadu</td>\n",
       "      <td>Pudukottai</td>\n",
       "      <td>Acute Diarrhoeal Disease</td>\n",
       "      <td>8.0</td>\n",
       "      <td>0.0</td>\n",
       "      <td>18</td>\n",
       "      <td>1</td>\n",
       "      <td>2022</td>\n",
       "      <td>10.382651</td>\n",
       "      <td>78.819126</td>\n",
       "      <td>0.107413</td>\n",
       "      <td>12.0</td>\n",
       "      <td>300.766667</td>\n",
       "      <td>3</td>\n",
       "      <td>2022-01-17</td>\n",
       "    </tr>\n",
       "    <tr>\n",
       "      <th>3</th>\n",
       "      <td>3rd week</td>\n",
       "      <td>Gujarat</td>\n",
       "      <td>Patan</td>\n",
       "      <td>Acute Diarrhoeal Disease</td>\n",
       "      <td>7.0</td>\n",
       "      <td>0.0</td>\n",
       "      <td>11</td>\n",
       "      <td>1</td>\n",
       "      <td>2022</td>\n",
       "      <td>23.774057</td>\n",
       "      <td>71.683735</td>\n",
       "      <td>0.065094</td>\n",
       "      <td>9.0</td>\n",
       "      <td>299.080000</td>\n",
       "      <td>3</td>\n",
       "      <td>2022-01-17</td>\n",
       "    </tr>\n",
       "    <tr>\n",
       "      <th>4</th>\n",
       "      <td>3rd week</td>\n",
       "      <td>Kerala</td>\n",
       "      <td>Ernakulam</td>\n",
       "      <td>Acute Diarrhoeal Disease</td>\n",
       "      <td>14.0</td>\n",
       "      <td>0.0</td>\n",
       "      <td>24</td>\n",
       "      <td>12</td>\n",
       "      <td>2021</td>\n",
       "      <td>9.984080</td>\n",
       "      <td>76.274146</td>\n",
       "      <td>0.041256</td>\n",
       "      <td>33.0</td>\n",
       "      <td>303.028000</td>\n",
       "      <td>3</td>\n",
       "      <td>2021-01-18</td>\n",
       "    </tr>\n",
       "  </tbody>\n",
       "</table>\n",
       "</div>"
      ],
      "text/plain": [
       "  week_of_outbreak     state_ut            district                   Disease  \\\n",
       "0         1st week    Meghalaya  East Jaintia Hills  Acute Diarrhoeal Disease   \n",
       "1         2nd week  Maharashtra          Gadchiroli                   Malaria   \n",
       "2         3rd week   Tamil Nadu          Pudukottai  Acute Diarrhoeal Disease   \n",
       "3         3rd week      Gujarat               Patan  Acute Diarrhoeal Disease   \n",
       "4         3rd week       Kerala           Ernakulam  Acute Diarrhoeal Disease   \n",
       "\n",
       "   Cases  Deaths  day  mon  year   Latitude  Longitude     preci   LAI  \\\n",
       "0  160.0     0.0    2    1  2022  25.251576  92.484050  0.020354  34.5   \n",
       "1    7.0     2.0   10    1  2022  19.759070  80.162281  0.007479   9.0   \n",
       "2    8.0     0.0   18    1  2022  10.382651  78.819126  0.107413  12.0   \n",
       "3    7.0     0.0   11    1  2022  23.774057  71.683735  0.065094   9.0   \n",
       "4   14.0     0.0   24   12  2021   9.984080  76.274146  0.041256  33.0   \n",
       "\n",
       "         Temp  week_no week_start  \n",
       "0  291.533333        1 2022-01-03  \n",
       "1  299.970000        2 2022-01-10  \n",
       "2  300.766667        3 2022-01-17  \n",
       "3  299.080000        3 2022-01-17  \n",
       "4  303.028000        3 2021-01-18  "
      ]
     },
     "execution_count": 11,
     "metadata": {},
     "output_type": "execute_result"
    }
   ],
   "source": [
    "df.head()"
   ]
  },
  {
   "cell_type": "code",
   "execution_count": 12,
   "id": "0436436a",
   "metadata": {},
   "outputs": [],
   "source": [
    "df.to_csv(\"C:/Users/bikek/data_analysis projects/EpiClim_public_health_district_level_analysis/data/Cleaned_epiclim_data.csv\")"
   ]
  }
 ],
 "metadata": {
  "kernelspec": {
   "display_name": "Python 3",
   "language": "python",
   "name": "python3"
  },
  "language_info": {
   "codemirror_mode": {
    "name": "ipython",
    "version": 3
   },
   "file_extension": ".py",
   "mimetype": "text/x-python",
   "name": "python",
   "nbconvert_exporter": "python",
   "pygments_lexer": "ipython3",
   "version": "3.13.5"
  }
 },
 "nbformat": 4,
 "nbformat_minor": 5
}
